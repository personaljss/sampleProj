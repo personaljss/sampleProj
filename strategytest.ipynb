{
 "cells": [
  {
   "cell_type": "code",
   "execution_count": 1,
   "id": "da433a7c",
   "metadata": {},
   "outputs": [
    {
     "name": "stderr",
     "output_type": "stream",
     "text": [
      "..F\n",
      "======================================================================\n",
      "FAIL: test_signal_generation (__main__.TestVWAPCrossoverStrategy)\n",
      "----------------------------------------------------------------------\n",
      "Traceback (most recent call last):\n",
      "  File \"/tmp/ipykernel_5965/2942809134.py\", line 23, in test_signal_generation\n",
      "    np.testing.assert_array_equal(strategy.df['signal'].values, expected_signals)\n",
      "  File \"/home/yusuf/anaconda3/lib/python3.9/site-packages/numpy/testing/_private/utils.py\", line 934, in assert_array_equal\n",
      "    assert_array_compare(operator.__eq__, x, y, err_msg=err_msg,\n",
      "  File \"/home/yusuf/anaconda3/lib/python3.9/site-packages/numpy/testing/_private/utils.py\", line 844, in assert_array_compare\n",
      "    raise AssertionError(msg)\n",
      "AssertionError: \n",
      "Arrays are not equal\n",
      "\n",
      "Mismatched elements: 3 / 13 (23.1%)\n",
      "Max absolute difference: 2\n",
      "Max relative difference: 2.\n",
      " x: array([ 0,  0,  0,  0,  1,  1,  1, -1, -1, -1, -1,  1,  1])\n",
      " y: array([ 0,  0,  0,  0,  1,  1, -1, -1, -1,  1,  1,  1,  1])\n",
      "\n",
      "----------------------------------------------------------------------\n",
      "Ran 3 tests in 0.030s\n",
      "\n",
      "FAILED (failures=1)\n"
     ]
    }
   ],
   "source": [
    "import unittest\n",
    "import pandas as pd\n",
    "import numpy as np\n",
    "from strategy import *\n",
    "\n",
    "# Assuming VWAPCrossoverStrategy is imported here\n",
    "\n",
    "class TestVWAPCrossoverStrategy(unittest.TestCase):\n",
    "    def setUp(self):\n",
    "        # Sample data\n",
    "        data = {\n",
    "            'execpx': [1, 2, 3, 4, 5, 4, 3, 2, 1, 2, 3, 4, 5],\n",
    "            'execqty': [100, 100, 100, 100, 100, 100, 100, 100, 100, 100, 100, 100, 100]\n",
    "        }\n",
    "        self.df = pd.DataFrame(data)\n",
    "\n",
    "    def test_signal_generation(self):\n",
    "        strategy = VWAPCrossoverStrategy(self.df)\n",
    "        strategy.generate_signals(3, 5, 0.03)\n",
    "        \n",
    "        # Verify if signals are created correctly. You may need to manually verify the expected signals.\n",
    "        expected_signals = [0, 0, 0, 0, 1, 1, -1, -1, -1, 1, 1, 1, 1]\n",
    "        np.testing.assert_array_equal(strategy.df['signal'].values, expected_signals)\n",
    "        \n",
    "    def test_profit_calculation(self):\n",
    "        strategy = VWAPCrossoverStrategy(self.df)\n",
    "        strategy.run(3, 5, 0.03)\n",
    "        \n",
    "        # Verify if profit is calculated correctly.\n",
    "        # This is a simplistic check, in reality you would need more checks based on expected profit values.\n",
    "        self.assertTrue(all(strategy.df['profit'] >= 0) or all(strategy.df['profit'] <= 0))\n",
    "        \n",
    "    def test_portfolio_value_update(self):\n",
    "        strategy = VWAPCrossoverStrategy(self.df)\n",
    "        strategy.run(3, 5, 0.03)\n",
    "        \n",
    "        # Checking if the portfolio value starts with the initial balance\n",
    "        self.assertEqual(strategy.portfolio_value[0], strategy.initial_balance)\n",
    "        \n",
    "        # Check if portfolio value updates are in line with profit/loss. Again, this is a simplistic check.\n",
    "        for i in range(1, len(strategy.portfolio_value)):\n",
    "            self.assertEqual(strategy.portfolio_value[i], strategy.portfolio_value[i-1] + strategy.df['profit'].iloc[i])\n",
    "\n",
    "if __name__ == '__main__':\n",
    "    unittest.TextTestRunner().run(unittest.TestLoader().loadTestsFromTestCase(TestVWAPCrossoverStrategy))\n",
    "\n"
   ]
  },
  {
   "cell_type": "code",
   "execution_count": null,
   "id": "abdd52c9",
   "metadata": {},
   "outputs": [],
   "source": []
  }
 ],
 "metadata": {
  "kernelspec": {
   "display_name": "Python 3 (ipykernel)",
   "language": "python",
   "name": "python3"
  },
  "language_info": {
   "codemirror_mode": {
    "name": "ipython",
    "version": 3
   },
   "file_extension": ".py",
   "mimetype": "text/x-python",
   "name": "python",
   "nbconvert_exporter": "python",
   "pygments_lexer": "ipython3",
   "version": "3.9.13"
  }
 },
 "nbformat": 4,
 "nbformat_minor": 5
}
