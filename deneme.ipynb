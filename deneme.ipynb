{
 "cells": [
  {
   "cell_type": "code",
   "execution_count": 4,
   "id": "adf2a36e",
   "metadata": {},
   "outputs": [
    {
     "data": {
      "text/html": [
       "<div>\n",
       "<style scoped>\n",
       "    .dataframe tbody tr th:only-of-type {\n",
       "        vertical-align: middle;\n",
       "    }\n",
       "\n",
       "    .dataframe tbody tr th {\n",
       "        vertical-align: top;\n",
       "    }\n",
       "\n",
       "    .dataframe thead th {\n",
       "        text-align: right;\n",
       "    }\n",
       "</style>\n",
       "<table border=\"1\" class=\"dataframe\">\n",
       "  <thead>\n",
       "    <tr style=\"text-align: right;\">\n",
       "      <th></th>\n",
       "      <th>execpx</th>\n",
       "      <th>execqty</th>\n",
       "    </tr>\n",
       "  </thead>\n",
       "  <tbody>\n",
       "    <tr>\n",
       "      <th>2022-09-21 10:00:00.091279766+03:00</th>\n",
       "      <td>11.81</td>\n",
       "      <td>5000</td>\n",
       "    </tr>\n",
       "    <tr>\n",
       "      <th>2022-09-21 10:00:00.106780169+03:00</th>\n",
       "      <td>11.80</td>\n",
       "      <td>1611</td>\n",
       "    </tr>\n",
       "    <tr>\n",
       "      <th>2022-09-21 10:00:00.119995765+03:00</th>\n",
       "      <td>11.80</td>\n",
       "      <td>1200</td>\n",
       "    </tr>\n",
       "    <tr>\n",
       "      <th>2022-09-21 10:00:00.121344635+03:00</th>\n",
       "      <td>11.80</td>\n",
       "      <td>8800</td>\n",
       "    </tr>\n",
       "    <tr>\n",
       "      <th>2022-09-21 10:00:00.125455159+03:00</th>\n",
       "      <td>11.80</td>\n",
       "      <td>1200</td>\n",
       "    </tr>\n",
       "  </tbody>\n",
       "</table>\n",
       "</div>"
      ],
      "text/plain": [
       "                                     execpx  execqty\n",
       "2022-09-21 10:00:00.091279766+03:00   11.81     5000\n",
       "2022-09-21 10:00:00.106780169+03:00   11.80     1611\n",
       "2022-09-21 10:00:00.119995765+03:00   11.80     1200\n",
       "2022-09-21 10:00:00.121344635+03:00   11.80     8800\n",
       "2022-09-21 10:00:00.125455159+03:00   11.80     1200"
      ]
     },
     "execution_count": 4,
     "metadata": {},
     "output_type": "execute_result"
    }
   ],
   "source": [
    "from models import *\n",
    "from customTester import *\n",
    "import pandas as pd\n",
    "\n",
    "\n",
    "data_processor = DataProcessor('AKBNK.E.csv')\n",
    "#creating df's for linit order book and executions\n",
    "lob_snaps, execs = data_processor.lob_dfs()\n",
    "execs.head()"
   ]
  },
  {
   "cell_type": "code",
   "execution_count": 2,
   "id": "81c0a191",
   "metadata": {},
   "outputs": [
    {
     "data": {
      "text/html": [
       "<div>\n",
       "<style scoped>\n",
       "    .dataframe tbody tr th:only-of-type {\n",
       "        vertical-align: middle;\n",
       "    }\n",
       "\n",
       "    .dataframe tbody tr th {\n",
       "        vertical-align: top;\n",
       "    }\n",
       "\n",
       "    .dataframe thead th {\n",
       "        text-align: right;\n",
       "    }\n",
       "</style>\n",
       "<table border=\"1\" class=\"dataframe\">\n",
       "  <thead>\n",
       "    <tr style=\"text-align: right;\">\n",
       "      <th></th>\n",
       "      <th>execpx</th>\n",
       "      <th>execqty</th>\n",
       "    </tr>\n",
       "  </thead>\n",
       "  <tbody>\n",
       "    <tr>\n",
       "      <th>2022-09-21 18:08:43.808620603+03:00</th>\n",
       "      <td>11.52</td>\n",
       "      <td>10000</td>\n",
       "    </tr>\n",
       "    <tr>\n",
       "      <th>2022-09-21 18:08:46.553009344+03:00</th>\n",
       "      <td>11.52</td>\n",
       "      <td>1000</td>\n",
       "    </tr>\n",
       "    <tr>\n",
       "      <th>2022-09-21 18:08:48.515232861+03:00</th>\n",
       "      <td>11.52</td>\n",
       "      <td>600</td>\n",
       "    </tr>\n",
       "    <tr>\n",
       "      <th>2022-09-21 18:08:52.977619405+03:00</th>\n",
       "      <td>11.52</td>\n",
       "      <td>10000</td>\n",
       "    </tr>\n",
       "    <tr>\n",
       "      <th>2022-09-21 18:09:16.463262101+03:00</th>\n",
       "      <td>11.52</td>\n",
       "      <td>3000</td>\n",
       "    </tr>\n",
       "  </tbody>\n",
       "</table>\n",
       "</div>"
      ],
      "text/plain": [
       "                                     execpx  execqty\n",
       "2022-09-21 18:08:43.808620603+03:00   11.52    10000\n",
       "2022-09-21 18:08:46.553009344+03:00   11.52     1000\n",
       "2022-09-21 18:08:48.515232861+03:00   11.52      600\n",
       "2022-09-21 18:08:52.977619405+03:00   11.52    10000\n",
       "2022-09-21 18:09:16.463262101+03:00   11.52     3000"
      ]
     },
     "execution_count": 2,
     "metadata": {},
     "output_type": "execute_result"
    }
   ],
   "source": [
    "execs.tail()"
   ]
  },
  {
   "cell_type": "code",
   "execution_count": null,
   "id": "055bbee6",
   "metadata": {},
   "outputs": [],
   "source": []
  }
 ],
 "metadata": {
  "kernelspec": {
   "display_name": "Python 3 (ipykernel)",
   "language": "python",
   "name": "python3"
  },
  "language_info": {
   "codemirror_mode": {
    "name": "ipython",
    "version": 3
   },
   "file_extension": ".py",
   "mimetype": "text/x-python",
   "name": "python",
   "nbconvert_exporter": "python",
   "pygments_lexer": "ipython3",
   "version": "3.9.13"
  }
 },
 "nbformat": 4,
 "nbformat_minor": 5
}
