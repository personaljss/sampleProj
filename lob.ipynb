{
 "cells": [
  {
   "cell_type": "code",
   "execution_count": 4,
   "id": "1c6d58d8",
   "metadata": {},
   "outputs": [
    {
     "data": {
      "text/plain": [
       "0    NaN\n",
       "1    1.0\n",
       "2    3.0\n",
       "3   -2.0\n",
       "4    3.0\n",
       "5   -2.0\n",
       "6    3.0\n",
       "7    1.0\n",
       "Name: number, dtype: float64"
      ]
     },
     "execution_count": 4,
     "metadata": {},
     "output_type": "execute_result"
    }
   ],
   "source": [
    "import pandas as pd\n",
    "\n",
    "\n",
    "# Original DataFrame\n",
    "df = pd.DataFrame({\n",
    "    'number': [1, 2, 5, 3, 6, 4, 7, 8]\n",
    "})\n",
    "\n",
    "# Find the differences between consecutive numbers\n",
    "diffs = df['number'].diff()\n",
    "\n",
    "# Find the indices where the number is greater than the previous one\n",
    "greater_indices = diffs[diffs > 0].index\n",
    "\n",
    "diffs\n"
   ]
  },
  {
   "cell_type": "code",
   "execution_count": 16,
   "id": "f1bf239c",
   "metadata": {},
   "outputs": [],
   "source": [
    "# Select the numbers that are greater than the previous one\n",
    "selected_numbers = df.loc[greater_indices, 'number'].values\n",
    "\n",
    "# Create a DataFrame from the selected numbers with a single column\n",
    "df2 = pd.DataFrame(selected_numbers, columns=['ask1'])\n",
    "\n",
    "# Shift the values to create the ask2 and ask3 columns\n",
    "df2['ask2'] = df2['ask1'].shift()\n",
    "df2['ask3'] = df2['ask2'].shift()\n"
   ]
  },
  {
   "cell_type": "code",
   "execution_count": 17,
   "id": "40b71b57",
   "metadata": {},
   "outputs": [
    {
     "name": "stdout",
     "output_type": "stream",
     "text": [
      "   ask1  ask2  ask3\n",
      "0     6   5.0   2.0\n",
      "1     7   6.0   5.0\n",
      "2     8   7.0   6.0\n"
     ]
    }
   ],
   "source": [
    "# Drop rows where ask1, ask2, or ask3 are NaN, if needed\n",
    "df2.dropna(inplace=True)\n",
    "df2=df2.reset_index(drop=True)\n",
    "# Print the resulting DataFrame\n",
    "print(df2)"
   ]
  },
  {
   "cell_type": "code",
   "execution_count": null,
   "id": "4ddf8507",
   "metadata": {},
   "outputs": [],
   "source": []
  }
 ],
 "metadata": {
  "kernelspec": {
   "display_name": "Python 3 (ipykernel)",
   "language": "python",
   "name": "python3"
  },
  "language_info": {
   "codemirror_mode": {
    "name": "ipython",
    "version": 3
   },
   "file_extension": ".py",
   "mimetype": "text/x-python",
   "name": "python",
   "nbconvert_exporter": "python",
   "pygments_lexer": "ipython3",
   "version": "3.9.13"
  }
 },
 "nbformat": 4,
 "nbformat_minor": 5
}
